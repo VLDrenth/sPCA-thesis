{
 "cells": [
  {
   "cell_type": "code",
   "execution_count": 1,
   "metadata": {},
   "outputs": [
    {
     "name": "stdout",
     "output_type": "stream",
     "text": [
      "Collecting linearmodels\n",
      "  Downloading linearmodels-5.1-cp39-cp39-win_amd64.whl (1.9 MB)\n",
      "     ---------------------------------------- 1.9/1.9 MB 13.7 MB/s eta 0:00:00\n",
      "Requirement already satisfied: numpy>=1.19.0 in c:\\users\\vincent\\appdata\\roaming\\python\\python39\\site-packages (from linearmodels) (1.24.3)\n",
      "Requirement already satisfied: pandas>=1.1.0 in c:\\users\\vincent\\anaconda3new\\envs\\thesis\\lib\\site-packages (from linearmodels) (1.5.3)\n",
      "Requirement already satisfied: scipy>=1.5.0 in c:\\users\\vincent\\anaconda3new\\envs\\thesis\\lib\\site-packages (from linearmodels) (1.10.1)\n",
      "Requirement already satisfied: statsmodels>=0.12.0 in c:\\users\\vincent\\anaconda3new\\envs\\thesis\\lib\\site-packages (from linearmodels) (0.13.5)\n",
      "Collecting mypy-extensions>=0.4 (from linearmodels)\n",
      "  Downloading mypy_extensions-1.0.0-py3-none-any.whl (4.7 kB)\n",
      "Requirement already satisfied: Cython>=0.29.34 in c:\\users\\vincent\\anaconda3new\\envs\\thesis\\lib\\site-packages (from linearmodels) (0.29.34)\n",
      "Collecting pyhdfe>=0.1 (from linearmodels)\n",
      "  Downloading pyhdfe-0.1.2-py3-none-any.whl (18 kB)\n",
      "Collecting formulaic>=0.6.1 (from linearmodels)\n",
      "  Downloading formulaic-0.6.2-py3-none-any.whl (82 kB)\n",
      "     ---------------------------------------- 82.4/82.4 kB ? eta 0:00:00\n",
      "Collecting setuptools-scm[toml]<8.0.0,>=7.0.0 (from linearmodels)\n",
      "  Downloading setuptools_scm-7.1.0-py3-none-any.whl (43 kB)\n",
      "     ---------------------------------------- 43.8/43.8 kB 2.2 MB/s eta 0:00:00\n",
      "Collecting astor>=0.8 (from formulaic>=0.6.1->linearmodels)\n",
      "  Using cached astor-0.8.1-py2.py3-none-any.whl (27 kB)\n",
      "Collecting interface-meta>=1.2.0 (from formulaic>=0.6.1->linearmodels)\n",
      "  Downloading interface_meta-1.3.0-py3-none-any.whl (14 kB)\n",
      "Requirement already satisfied: typing-extensions>=4.2.0 in c:\\users\\vincent\\anaconda3new\\envs\\thesis\\lib\\site-packages (from formulaic>=0.6.1->linearmodels) (4.5.0)\n",
      "Collecting wrapt>=1.0 (from formulaic>=0.6.1->linearmodels)\n",
      "  Downloading wrapt-1.15.0-cp39-cp39-win_amd64.whl (36 kB)\n",
      "Requirement already satisfied: python-dateutil>=2.8.1 in c:\\users\\vincent\\anaconda3new\\envs\\thesis\\lib\\site-packages (from pandas>=1.1.0->linearmodels) (2.8.2)\n",
      "Requirement already satisfied: pytz>=2020.1 in c:\\users\\vincent\\anaconda3new\\envs\\thesis\\lib\\site-packages (from pandas>=1.1.0->linearmodels) (2022.7)\n",
      "Requirement already satisfied: packaging>=20.0 in c:\\users\\vincent\\anaconda3new\\envs\\thesis\\lib\\site-packages (from setuptools-scm[toml]<8.0.0,>=7.0.0->linearmodels) (23.0)\n",
      "Requirement already satisfied: setuptools in c:\\users\\vincent\\anaconda3new\\envs\\thesis\\lib\\site-packages (from setuptools-scm[toml]<8.0.0,>=7.0.0->linearmodels) (66.0.0)\n",
      "Collecting tomli>=1.0.0 (from setuptools-scm[toml]<8.0.0,>=7.0.0->linearmodels)\n",
      "  Using cached tomli-2.0.1-py3-none-any.whl (12 kB)\n",
      "Requirement already satisfied: patsy>=0.5.2 in c:\\users\\vincent\\anaconda3new\\envs\\thesis\\lib\\site-packages (from statsmodels>=0.12.0->linearmodels) (0.5.3)\n",
      "Requirement already satisfied: six in c:\\users\\vincent\\anaconda3new\\envs\\thesis\\lib\\site-packages (from patsy>=0.5.2->statsmodels>=0.12.0->linearmodels) (1.16.0)\n",
      "Installing collected packages: wrapt, tomli, mypy-extensions, interface-meta, astor, setuptools-scm, pyhdfe, formulaic, linearmodels\n",
      "Successfully installed astor-0.8.1 formulaic-0.6.2 interface-meta-1.3.0 linearmodels-5.1 mypy-extensions-1.0.0 pyhdfe-0.1.2 setuptools-scm-7.1.0 tomli-2.0.1 wrapt-1.15.0\n",
      "Note: you may need to restart the kernel to use updated packages.\n"
     ]
    }
   ],
   "source": [
    "import linearmodels as lm\n",
    "import pandas as pd\n",
    "import numpy as np"
   ]
  },
  {
   "cell_type": "code",
   "execution_count": null,
   "metadata": {},
   "outputs": [],
   "source": [
    "# Put all the data in a single DataFrame\n",
    "forecasts = pd.DataFrame(colnames=['forecast', 'actual', 'target', 'horizon', 'scaling', 'dim_red', 'regression'])\n",
    "\n",
    "for target in ['inflation', 'ip_growth', 'unemployment']:\n",
    "    for horizon in [1, 6, 12]:\n",
    "        for scaling in ['none', 'regression', 'distance_correlation']:\n",
    "            for dim_red in ['pca', 'rbf', 'ae_bayes']:\n",
    "                for regression in ['ols', 'rf', 'svr']:\n",
    "                    forecast = np.load('resources/results/forecasts_good/{}_{}_{}_{}_h{}.npy'.format(target, dim_red, scaling, regression, horizon))\n",
    "                    actual = np.load('resources/results/forecasts_good/{}_actual_h{}.npy'.format(target, horizon))\n",
    "                    forecasts = forecasts.append({'forecast': forecast, 'actual': actual, 'target': target, 'horizon': horizon, 'scaling': scaling, 'dim_red': dim_red, 'regression': regression}, ignore_index=True)"
   ]
  },
  {
   "cell_type": "code",
   "execution_count": null,
   "metadata": {},
   "outputs": [],
   "source": [
    "# Create a dummy variable for each combination of target, horizon, and time\n",
    "for target in ['inflation', 'ip_growth', 'unemployment']:\n",
    "    for horizon in [1, 6, 12]:\n",
    "        forecasts['{}_h{}'.format(target, horizon)] = (forecasts['target'] == target) & (forecasts['horizon'] == horizon)\n",
    "\n",
    "# Create a dummy variable for nonlinearity in scaling, dimensionality reduction, and regression\n",
    "for scaling in ['none', 'regression', 'distance_correlation']:\n",
    "    forecasts['scaling_nonlinearity'] = forecasts['scaling'] in [ 'distance_correlation']\n",
    "for dim_red in ['pca', 'rbf', 'ae_bayes']:\n",
    "    forecasts['dim_red_nonlinearity'] = forecasts['dim_red'] in ['rbf', 'ae_bayes']\n",
    "for regression in ['ols', 'rf', 'svr']:\n",
    "    forecasts['regression_nonlinearity'] = forecasts['regression'] in ['rf', 'svr']"
   ]
  },
  {
   "cell_type": "code",
   "execution_count": null,
   "metadata": {},
   "outputs": [],
   "source": [
    "def get_R2(forecast, actual):\n",
    "    # Denominator is the mean squared error of actual - historical mean rolling forecast\n",
    "    denom = np.mean((actual - np.mean(actual)) ** 2)\n",
    "\n",
    "    # Numerator is the squared error of the forecast\n",
    "    numer = (actual - forecast) ** 2\n",
    "\n",
    "    # Return the R2\n",
    "    temp =  -1 * (numer / denom)\n",
    "    R2_vec = temp + 1\n",
    "\n",
    "    return R2_vec"
   ]
  },
  {
   "cell_type": "code",
   "execution_count": null,
   "metadata": {},
   "outputs": [],
   "source": [
    "# Compute the R2 for each combination of target, horizon, and time\n",
    "for target in ['inflation', 'ip_growth', 'unemployment']:\n",
    "    for horizon in [1, 6, 12]:\n",
    "        forecasts['{}_h{}_R2'.format(target, horizon)] = get_R2(forecasts['forecast'], forecasts['actual'])"
   ]
  },
  {
   "cell_type": "code",
   "execution_count": null,
   "metadata": {},
   "outputs": [],
   "source": [
    "# Run fixed effects regressions\n"
   ]
  }
 ],
 "metadata": {
  "kernelspec": {
   "display_name": "thesis",
   "language": "python",
   "name": "python3"
  },
  "language_info": {
   "codemirror_mode": {
    "name": "ipython",
    "version": 3
   },
   "file_extension": ".py",
   "mimetype": "text/x-python",
   "name": "python",
   "nbconvert_exporter": "python",
   "pygments_lexer": "ipython3",
   "version": "3.9.16"
  },
  "orig_nbformat": 4
 },
 "nbformat": 4,
 "nbformat_minor": 2
}
