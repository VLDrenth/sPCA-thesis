{
 "cells": [
  {
   "cell_type": "code",
   "execution_count": 1,
   "metadata": {},
   "outputs": [],
   "source": [
    "import numpy as np\n",
    "import pandas as pd\n",
    "\n",
    "from sklearn.linear_model import LinearRegression\n",
    "from sklearn.ensemble import RandomForestRegressor"
   ]
  },
  {
   "cell_type": "code",
   "execution_count": 22,
   "metadata": {},
   "outputs": [
    {
     "name": "stdout",
     "output_type": "stream",
     "text": [
      "Linear Regression MSE:  20.458061849497014\n",
      "Random Forest MSE:  19.98850979311667\n"
     ]
    }
   ],
   "source": [
    "# Simulate some data\n",
    "n = 1000\n",
    "x = np.random.uniform(0, 1, n)\n",
    "z = np.random.exponential(3, n)\n",
    "\n",
    "y = 0.5 * x  + z + z*x + x**2 + np.random.normal(0, 0.1, n)\n",
    "\n",
    "# Create a dataframe\n",
    "df = pd.DataFrame({'x': x, 'y': y, 'z': z})\n",
    "\n",
    "# Fit a linear model\n",
    "lr = LinearRegression()\n",
    "lr.fit(df[['x', 'z']], df['y'])\n",
    "\n",
    "# Fit a random forest\n",
    "rf = RandomForestRegressor()\n",
    "rf.fit(df[['x', 'z']], df['y'])\n",
    "\n",
    "# Predict\n",
    "new_x = np.random.uniform(0, 1, 100)\n",
    "new_z = np.random.exponential(3, 100)\n",
    "new_y = 0.5 * new_x  + new_z * new_x + new_x**2 + np.random.normal(0, 0.1, 100)\n",
    "\n",
    "# Create a dataframe\n",
    "new_df = pd.DataFrame({'x': new_x, 'y': new_y, 'z': new_z})\n",
    "\n",
    "# Predict\n",
    "lr_pred = lr.predict(new_df[['x', 'z']])\n",
    "rf_pred = rf.predict(new_df[['x', 'z']])\n",
    "\n",
    "# Calculate the MSE\n",
    "lr_mse = np.mean((lr_pred - new_df['y'])**2)\n",
    "rf_mse = np.mean((rf_pred - new_df['y'])**2)\n",
    "\n",
    "print('Linear Regression MSE: ', lr_mse)\n",
    "print('Random Forest MSE: ', rf_mse)"
   ]
  },
  {
   "cell_type": "code",
   "execution_count": null,
   "metadata": {},
   "outputs": [],
   "source": []
  }
 ],
 "metadata": {
  "kernelspec": {
   "display_name": "thesis",
   "language": "python",
   "name": "python3"
  },
  "language_info": {
   "codemirror_mode": {
    "name": "ipython",
    "version": 3
   },
   "file_extension": ".py",
   "mimetype": "text/x-python",
   "name": "python",
   "nbconvert_exporter": "python",
   "pygments_lexer": "ipython3",
   "version": "3.9.16"
  },
  "orig_nbformat": 4
 },
 "nbformat": 4,
 "nbformat_minor": 2
}
