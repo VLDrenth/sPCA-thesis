{
 "cells": [
  {
   "cell_type": "markdown",
   "id": "26808055",
   "metadata": {},
   "source": [
    "Here we look at the trace statistics and the correlation between the dcor with regression slope"
   ]
  },
  {
   "cell_type": "code",
   "execution_count": 33,
   "id": "33499831",
   "metadata": {},
   "outputs": [],
   "source": [
    "import numpy as np\n",
    "from scipy import stats"
   ]
  },
  {
   "cell_type": "code",
   "execution_count": 16,
   "id": "ab439b70",
   "metadata": {},
   "outputs": [],
   "source": [
    "def trace_stat(f_hat, f):\n",
    "    numerator = f.T @ f_hat @ np.linalg.inv(f_hat.T @ f_hat) @ f_hat.T @ f\n",
    "    denom = f.T @ f\n",
    "    \n",
    "    return np.trace(numerator) / np.trace(denom)"
   ]
  },
  {
   "cell_type": "code",
   "execution_count": 26,
   "id": "d97c5dab",
   "metadata": {
    "collapsed": true
   },
   "outputs": [
    {
     "name": "stdout",
     "output_type": "stream",
     "text": [
      "True regression pca\n",
      "[[0. 0.]\n",
      " [0. 0.]\n",
      " [0. 0.]\n",
      " [0. 0.]\n",
      " [0. 0.]\n",
      " [0. 0.]\n",
      " [0. 0.]\n",
      " [0. 0.]\n",
      " [0. 0.]\n",
      " [0. 0.]\n",
      " [0. 0.]\n",
      " [0. 0.]\n",
      " [0. 0.]\n",
      " [0. 0.]\n",
      " [0. 0.]\n",
      " [0. 0.]\n",
      " [0. 0.]\n",
      " [0. 0.]\n",
      " [0. 0.]\n",
      " [0. 0.]\n",
      " [0. 0.]\n",
      " [0. 0.]\n",
      " [0. 0.]\n",
      " [0. 0.]\n",
      " [0. 0.]\n",
      " [0. 0.]\n",
      " [0. 0.]\n",
      " [0. 0.]\n",
      " [0. 0.]\n",
      " [0. 0.]\n",
      " [0. 0.]\n",
      " [0. 0.]\n",
      " [0. 0.]\n",
      " [0. 0.]\n",
      " [0. 0.]\n",
      " [0. 0.]\n",
      " [0. 0.]\n",
      " [0. 0.]\n",
      " [0. 0.]\n",
      " [0. 0.]\n",
      " [0. 0.]\n",
      " [0. 0.]\n",
      " [0. 0.]\n",
      " [0. 0.]\n",
      " [0. 0.]\n",
      " [0. 0.]\n",
      " [0. 0.]\n",
      " [0. 0.]\n",
      " [0. 0.]]\n"
     ]
    },
    {
     "ename": "LinAlgError",
     "evalue": "Singular matrix",
     "output_type": "error",
     "traceback": [
      "\u001b[1;31m---------------------------------------------------------------------------\u001b[0m",
      "\u001b[1;31mLinAlgError\u001b[0m                               Traceback (most recent call last)",
      "Input \u001b[1;32mIn [26]\u001b[0m, in \u001b[0;36m<cell line: 1>\u001b[1;34m()\u001b[0m\n\u001b[0;32m     13\u001b[0m     f \u001b[38;5;241m=\u001b[39m f_full[r, \u001b[38;5;241m-\u001b[39m\u001b[38;5;241m49\u001b[39m:,]\n\u001b[0;32m     14\u001b[0m     \u001b[38;5;28mprint\u001b[39m(f_hat)\n\u001b[1;32m---> 15\u001b[0m     res \u001b[38;5;241m+\u001b[39m\u001b[38;5;241m=\u001b[39m \u001b[43mtrace_stat\u001b[49m\u001b[43m(\u001b[49m\u001b[43mf_hat\u001b[49m\u001b[43m,\u001b[49m\u001b[43m \u001b[49m\u001b[43mf\u001b[49m\u001b[43m)\u001b[49m\n\u001b[0;32m     17\u001b[0m \u001b[38;5;28mprint\u001b[39m(\u001b[38;5;124mf\u001b[39m\u001b[38;5;124m\"\u001b[39m\u001b[38;5;124mR2 trace stat\u001b[39m\u001b[38;5;132;01m{\u001b[39;00mnp\u001b[38;5;241m.\u001b[39mmean(res)\u001b[38;5;132;01m}\u001b[39;00m\u001b[38;5;124m\"\u001b[39m)\n",
      "Input \u001b[1;32mIn [16]\u001b[0m, in \u001b[0;36mtrace_stat\u001b[1;34m(f_hat, f)\u001b[0m\n\u001b[0;32m      1\u001b[0m \u001b[38;5;28;01mdef\u001b[39;00m \u001b[38;5;21mtrace_stat\u001b[39m(f_hat, f):\n\u001b[1;32m----> 2\u001b[0m     numerator \u001b[38;5;241m=\u001b[39m f\u001b[38;5;241m.\u001b[39mT \u001b[38;5;241m@\u001b[39m f_hat \u001b[38;5;241m@\u001b[39m \u001b[43mnp\u001b[49m\u001b[38;5;241;43m.\u001b[39;49m\u001b[43mlinalg\u001b[49m\u001b[38;5;241;43m.\u001b[39;49m\u001b[43minv\u001b[49m\u001b[43m(\u001b[49m\u001b[43mf_hat\u001b[49m\u001b[38;5;241;43m.\u001b[39;49m\u001b[43mT\u001b[49m\u001b[38;5;129;43m@f_hat\u001b[39;49m\u001b[43m)\u001b[49m \u001b[38;5;241m@\u001b[39m f_hat\u001b[38;5;241m.\u001b[39mT \u001b[38;5;241m@\u001b[39m f\n\u001b[0;32m      3\u001b[0m     denom \u001b[38;5;241m=\u001b[39m f\u001b[38;5;241m.\u001b[39mT \u001b[38;5;241m@\u001b[39m f\n\u001b[0;32m      5\u001b[0m     \u001b[38;5;28;01mreturn\u001b[39;00m np\u001b[38;5;241m.\u001b[39mtrace(numerator) \u001b[38;5;241m/\u001b[39m np\u001b[38;5;241m.\u001b[39mtrace(denom)\n",
      "File \u001b[1;32m<__array_function__ internals>:5\u001b[0m, in \u001b[0;36minv\u001b[1;34m(*args, **kwargs)\u001b[0m\n",
      "File \u001b[1;32mC:\\ProgramData\\Anaconda3\\lib\\site-packages\\numpy\\linalg\\linalg.py:545\u001b[0m, in \u001b[0;36minv\u001b[1;34m(a)\u001b[0m\n\u001b[0;32m    543\u001b[0m signature \u001b[38;5;241m=\u001b[39m \u001b[38;5;124m'\u001b[39m\u001b[38;5;124mD->D\u001b[39m\u001b[38;5;124m'\u001b[39m \u001b[38;5;28;01mif\u001b[39;00m isComplexType(t) \u001b[38;5;28;01melse\u001b[39;00m \u001b[38;5;124m'\u001b[39m\u001b[38;5;124md->d\u001b[39m\u001b[38;5;124m'\u001b[39m\n\u001b[0;32m    544\u001b[0m extobj \u001b[38;5;241m=\u001b[39m get_linalg_error_extobj(_raise_linalgerror_singular)\n\u001b[1;32m--> 545\u001b[0m ainv \u001b[38;5;241m=\u001b[39m \u001b[43m_umath_linalg\u001b[49m\u001b[38;5;241;43m.\u001b[39;49m\u001b[43minv\u001b[49m\u001b[43m(\u001b[49m\u001b[43ma\u001b[49m\u001b[43m,\u001b[49m\u001b[43m \u001b[49m\u001b[43msignature\u001b[49m\u001b[38;5;241;43m=\u001b[39;49m\u001b[43msignature\u001b[49m\u001b[43m,\u001b[49m\u001b[43m \u001b[49m\u001b[43mextobj\u001b[49m\u001b[38;5;241;43m=\u001b[39;49m\u001b[43mextobj\u001b[49m\u001b[43m)\u001b[49m\n\u001b[0;32m    546\u001b[0m \u001b[38;5;28;01mreturn\u001b[39;00m wrap(ainv\u001b[38;5;241m.\u001b[39mastype(result_t, copy\u001b[38;5;241m=\u001b[39m\u001b[38;5;28;01mFalse\u001b[39;00m))\n",
      "File \u001b[1;32mC:\\ProgramData\\Anaconda3\\lib\\site-packages\\numpy\\linalg\\linalg.py:88\u001b[0m, in \u001b[0;36m_raise_linalgerror_singular\u001b[1;34m(err, flag)\u001b[0m\n\u001b[0;32m     87\u001b[0m \u001b[38;5;28;01mdef\u001b[39;00m \u001b[38;5;21m_raise_linalgerror_singular\u001b[39m(err, flag):\n\u001b[1;32m---> 88\u001b[0m     \u001b[38;5;28;01mraise\u001b[39;00m LinAlgError(\u001b[38;5;124m\"\u001b[39m\u001b[38;5;124mSingular matrix\u001b[39m\u001b[38;5;124m\"\u001b[39m)\n",
      "\u001b[1;31mLinAlgError\u001b[0m: Singular matrix"
     ]
    }
   ],
   "source": [
    "for linear in [True, False]:\n",
    "    for scaling in ['regression']:\n",
    "        for dim_red in ['pca']:\n",
    "            for horizon in [1]:\n",
    "                print(\"{} {} {}\".format(linear, scaling, dim_red))\n",
    "                f_full = np.load('resources/results/monte_carlo_good/f_{}_{}_{}_{}.npy'.format(linear, scaling, dim_red, horizon))\n",
    "                f_hat_full = np.load('resources/results/monte_carlo_good/f_hat_{}_{}_{}_{}.npy'.format(linear, scaling, dim_red, horizon))\n",
    "                \n",
    "                res = 0\n",
    "                for r in range(100):\n",
    "\n",
    "                    f_hat = f_hat_full[r]\n",
    "                    f = f_full[r, -49:,]\n",
    "                    print(f)\n",
    "                    res += trace_stat(f_hat, f)\n",
    "                            \n",
    "                print(f\"R2 trace stat{np.mean(res)}\")"
   ]
  },
  {
   "cell_type": "code",
   "execution_count": 40,
   "id": "a79de3cf",
   "metadata": {},
   "outputs": [
    {
     "name": "stdout",
     "output_type": "stream",
     "text": [
      "0.527660700785062\n",
      "[0.6622546477728902, 0.656994268941247, 0.11463274178081773, 0.856029458370512, 0.40097103044398485, 0.9337913079572231, 0.5718300797988932, 0.7609421394395822, 0.2775103822793548, 0.1603967298741785, 0.22280375534915714, 0.7699472988551397, 0.5200591077081861, 0.2941599568269841, 0.6616262551939296, 0.36170192171968296, 0.6954353141413806, 0.4262721689060453, 0.7316928300063823, 0.20927044301995332, 0.8163499972366518, 0.0173832331785887, 0.2192447275335684, 0.11047567921845501, 0.9578629547854793, 0.017917042653588972, 0.4473224759799703, 0.06114262047938282, 0.9576088786223603, 0.045652911712693076, 0.8285463556606193, 0.18146207570873604, 0.661392365021204, 0.3937804842410091, 0.03968859786766966, 0.7459936368654956, 0.4067819181515742, 0.5014134852799973, 0.6888333388560061, 0.8062397328148849, 0.5218914587444945, 0.024510623077187814, 0.4282998469274614, 0.5605944079859497, 0.917227581304502, 0.8855000842269931, 0.4813652735917989, 0.8112259547804066, 0.6377122531182061, 0.33911567235788614, 0.5223446185102597, 0.9487028334793745, 0.43738247666224345, 0.06170766088565768, 0.3777607850962803, 0.6059217633024572, 0.24157252523163283, 0.8942249564264341, 0.9382940659813505, 0.9258531761022221, 0.9356203692981383, 0.7241664229559117, 0.1773984946585723, 0.4536622843763254, 0.6922525435611544, 0.6846856877701271, 0.31994798951562187, 0.15734787220269414, 0.49855840818704655, 0.6354463592739674, 0.9013989094510326, 0.3745599936632739, 0.7979721159263857, 0.14299123615675455, 0.42407589913567106, 0.622926180627647, 0.27917703652425385, 0.8921402018269748, 0.6724134295916163, 0.683035260247791, 0.19502725237016433, 0.1842793746609606, 0.9741712481308837, 0.4590155789623839, 0.8654299236134798, 0.6469041517819653, 0.4286478172205212, 0.8711589690637829, 0.7851218618652606, 0.7196791754762908, 0.9080995451156818, 0.5612477489455593, 0.9481094208404199, 0.2470854072513253, 0.1758042576504344, 0.8236139751484928, 0.8600021839880916, 0.039992806276353716, 0.027093362456315332, 0.22118695469062288]\n"
     ]
    },
    {
     "ename": "FileNotFoundError",
     "evalue": "[Errno 2] No such file or directory: 'resources/results/monte_carlo_good/scales_True_regression_rbf_1.npy'",
     "output_type": "error",
     "traceback": [
      "\u001b[1;31m---------------------------------------------------------------------------\u001b[0m",
      "\u001b[1;31mFileNotFoundError\u001b[0m                         Traceback (most recent call last)",
      "Input \u001b[1;32mIn [40]\u001b[0m, in \u001b[0;36m<cell line: 1>\u001b[1;34m()\u001b[0m\n\u001b[0;32m      1\u001b[0m \u001b[38;5;28;01mfor\u001b[39;00m linear \u001b[38;5;129;01min\u001b[39;00m [\u001b[38;5;28;01mTrue\u001b[39;00m, \u001b[38;5;28;01mFalse\u001b[39;00m]:\n\u001b[0;32m      2\u001b[0m         \u001b[38;5;28;01mfor\u001b[39;00m dim_red \u001b[38;5;129;01min\u001b[39;00m [\u001b[38;5;124m'\u001b[39m\u001b[38;5;124mpca\u001b[39m\u001b[38;5;124m'\u001b[39m, \u001b[38;5;124m'\u001b[39m\u001b[38;5;124mrbf\u001b[39m\u001b[38;5;124m'\u001b[39m, \u001b[38;5;124m'\u001b[39m\u001b[38;5;124mae\u001b[39m\u001b[38;5;124m'\u001b[39m]:\n\u001b[1;32m----> 3\u001b[0m             full_scales_pearson \u001b[38;5;241m=\u001b[39m \u001b[43mnp\u001b[49m\u001b[38;5;241;43m.\u001b[39;49m\u001b[43mload\u001b[49m\u001b[43m(\u001b[49m\u001b[38;5;124;43m'\u001b[39;49m\u001b[38;5;124;43mresources/results/monte_carlo_good/scales_\u001b[39;49m\u001b[38;5;132;43;01m{}\u001b[39;49;00m\u001b[38;5;124;43m_\u001b[39;49m\u001b[38;5;132;43;01m{}\u001b[39;49;00m\u001b[38;5;124;43m_\u001b[39;49m\u001b[38;5;132;43;01m{}\u001b[39;49;00m\u001b[38;5;124;43m_\u001b[39;49m\u001b[38;5;132;43;01m{}\u001b[39;49;00m\u001b[38;5;124;43m.npy\u001b[39;49m\u001b[38;5;124;43m'\u001b[39;49m\u001b[38;5;241;43m.\u001b[39;49m\u001b[43mformat\u001b[49m\u001b[43m(\u001b[49m\u001b[43mlinear\u001b[49m\u001b[43m,\u001b[49m\u001b[43m \u001b[49m\u001b[38;5;124;43m\"\u001b[39;49m\u001b[38;5;124;43mregression\u001b[39;49m\u001b[38;5;124;43m\"\u001b[39;49m\u001b[43m,\u001b[49m\u001b[43m \u001b[49m\u001b[43mdim_red\u001b[49m\u001b[43m,\u001b[49m\u001b[43m \u001b[49m\u001b[43mhorizon\u001b[49m\u001b[43m)\u001b[49m\u001b[43m)\u001b[49m\n\u001b[0;32m      4\u001b[0m             full_scales_dcor \u001b[38;5;241m=\u001b[39m np\u001b[38;5;241m.\u001b[39mload(\u001b[38;5;124m'\u001b[39m\u001b[38;5;124mresources/results/monte_carlo_good/scales_\u001b[39m\u001b[38;5;132;01m{}\u001b[39;00m\u001b[38;5;124m_\u001b[39m\u001b[38;5;132;01m{}\u001b[39;00m\u001b[38;5;124m_\u001b[39m\u001b[38;5;132;01m{}\u001b[39;00m\u001b[38;5;124m_\u001b[39m\u001b[38;5;132;01m{}\u001b[39;00m\u001b[38;5;124m.npy\u001b[39m\u001b[38;5;124m'\u001b[39m\u001b[38;5;241m.\u001b[39mformat(linear, \u001b[38;5;124m\"\u001b[39m\u001b[38;5;124mdistance_correlation\u001b[39m\u001b[38;5;124m\"\u001b[39m, dim_red, horizon))\n\u001b[0;32m      6\u001b[0m             res_list \u001b[38;5;241m=\u001b[39m []\n",
      "File \u001b[1;32mC:\\ProgramData\\Anaconda3\\lib\\site-packages\\numpy\\lib\\npyio.py:417\u001b[0m, in \u001b[0;36mload\u001b[1;34m(file, mmap_mode, allow_pickle, fix_imports, encoding)\u001b[0m\n\u001b[0;32m    415\u001b[0m     own_fid \u001b[38;5;241m=\u001b[39m \u001b[38;5;28;01mFalse\u001b[39;00m\n\u001b[0;32m    416\u001b[0m \u001b[38;5;28;01melse\u001b[39;00m:\n\u001b[1;32m--> 417\u001b[0m     fid \u001b[38;5;241m=\u001b[39m stack\u001b[38;5;241m.\u001b[39menter_context(\u001b[38;5;28;43mopen\u001b[39;49m\u001b[43m(\u001b[49m\u001b[43mos_fspath\u001b[49m\u001b[43m(\u001b[49m\u001b[43mfile\u001b[49m\u001b[43m)\u001b[49m\u001b[43m,\u001b[49m\u001b[43m \u001b[49m\u001b[38;5;124;43m\"\u001b[39;49m\u001b[38;5;124;43mrb\u001b[39;49m\u001b[38;5;124;43m\"\u001b[39;49m\u001b[43m)\u001b[49m)\n\u001b[0;32m    418\u001b[0m     own_fid \u001b[38;5;241m=\u001b[39m \u001b[38;5;28;01mTrue\u001b[39;00m\n\u001b[0;32m    420\u001b[0m \u001b[38;5;66;03m# Code to distinguish from NumPy binary files and pickles.\u001b[39;00m\n",
      "\u001b[1;31mFileNotFoundError\u001b[0m: [Errno 2] No such file or directory: 'resources/results/monte_carlo_good/scales_True_regression_rbf_1.npy'"
     ]
    }
   ],
   "source": [
    "for linear in [True, False]:\n",
    "        for dim_red in ['pca', 'rbf', 'ae']:\n",
    "            full_scales_pearson = np.load('resources/results/monte_carlo_good/scales_{}_{}_{}_{}.npy'.format(linear, \"regression\", dim_red, horizon))\n",
    "            full_scales_dcor = np.load('resources/results/monte_carlo_good/scales_{}_{}_{}_{}.npy'.format(linear, \"distance_correlation\", dim_red, horizon))\n",
    "            \n",
    "            res_list = []\n",
    "            for r in range(100):\n",
    "                res = 0\n",
    "                for j in range(49):\n",
    "                    scales_pearson = full_scales_pearson[r, j,:]\n",
    "                    scales_dcor = full_scales_dcor[r, j, :]\n",
    "                    rho = stats.pearsonr(scales_pearson, scales_dcor)[1]\n",
    "                    res += rho\n",
    "                res_list.append(res/49)\n",
    "            print(np.mean(res_list))\n",
    "            print(res_list)"
   ]
  }
 ],
 "metadata": {
  "kernelspec": {
   "display_name": "Python 3 (ipykernel)",
   "language": "python",
   "name": "python3"
  },
  "language_info": {
   "codemirror_mode": {
    "name": "ipython",
    "version": 3
   },
   "file_extension": ".py",
   "mimetype": "text/x-python",
   "name": "python",
   "nbconvert_exporter": "python",
   "pygments_lexer": "ipython3",
   "version": "3.9.12"
  }
 },
 "nbformat": 4,
 "nbformat_minor": 5
}
